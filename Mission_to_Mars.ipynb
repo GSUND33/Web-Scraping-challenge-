{
 "cells": [
  {
   "cell_type": "code",
   "execution_count": 36,
   "metadata": {},
   "outputs": [],
   "source": [
    "#Dependencies\n",
    "from splinter import Browser\n",
    "from bs4 import BeautifulSoup as BS\n",
    "import requests\n",
    "import pandas as pd\n"
   ]
  },
  {
   "cell_type": "code",
   "execution_count": 37,
   "metadata": {},
   "outputs": [],
   "source": [
    "executable_path = {'executable_path': 'chromedriver.exe'}\n",
    "browser = Browser('chrome', **executable_path, headless=False)\n"
   ]
  },
  {
   "cell_type": "code",
   "execution_count": 38,
   "metadata": {},
   "outputs": [],
   "source": [
    "\n",
    "    # Scraping the latest headline fron Nasa Mars website\n",
    "    \n",
    "    url = 'https://mars.nasa.gov/news'\n",
    "    browser.visit(url)\n",
    "    html = browser.html\n",
    "\n",
    "    soup = BS(html, 'html.parser')\n",
    "    LatestResult = soup.find(class_=\"slide\")\n"
   ]
  },
  {
   "cell_type": "code",
   "execution_count": 39,
   "metadata": {},
   "outputs": [
    {
     "name": "stdout",
     "output_type": "stream",
     "text": [
      "52\n",
      "Media Get a Close-Up of NASA's Mars 2020 Rover\n",
      "Space History Is Made in This NASA Robot Factory\n",
      "NASA's Mars 2020 Rover Completes Its First Drive\n",
      "NASA's Treasure Map for Water Ice on Mars\n",
      "Two Rovers to Roll on Mars Again: Curiosity and Mars 2020\n",
      "NASA's Briefcase-Size MarCO Satellite Picks Up Honors\n",
      "Global Storms on Mars Launch Dust Towers Into the Sky\n",
      "NASA Updates Mars 2020 Mission Environmental Review\n",
      "Two of a Space Kind: Apollo 12 and Mars 2020\n",
      "Mars Scientists Investigate Ancient Life in Australia\n",
      "NASA's Mars 2020 Will Hunt for Microscopic Fossils\n",
      "With Mars Methane Mystery Unsolved, Curiosity Serves Scientists a New One: Oxygen\n",
      "NASA's Mars 2020 Heads Into the Test Chamber\n",
      "Screening Soon: 'The Pathfinders' Trains Lens on Mars\n",
      "InSight's 'Mole' Team Peers into the Pit\n",
      "Common Questions about InSight's 'Mole'\n",
      "Mars 2020 Stands on Its Own Six Wheels\n",
      "New Selfie Shows Curiosity, the Mars Chemist\n",
      "Naming a NASA Mars Rover Can Change Your Life\n",
      "Mars 2020 Unwrapped and Ready for More Testing\n",
      "HiRISE Views NASA's InSight and Curiosity on Mars\n",
      "NASA's Curiosity Rover Finds an Ancient Oasis on Mars\n",
      "NASA's Mars 2020 Rover Tests Descent-Stage Separation\n",
      "NASA's Push to Save the Mars InSight Lander's Heat Probe\n",
      "NASA's InSight 'Hears' Peculiar Sounds on Mars\n",
      "NASA Mars Mission Connects With Bosnian and Herzegovinian Town\n",
      "Deadline Closing for Names to Fly on NASA's Next Mars Rover\n",
      "NASA Wins Two Emmy Awards for Interactive Mission Coverage\n",
      "NASA's Mars 2020 Comes Full Circle\n",
      "NASA Invites Students to Name Mars 2020 Rover\n",
      "NASA's Mars Helicopter Attached to Mars 2020 Rover\n",
      "What's Mars Solar Conjunction, and Why Does It Matter?\n",
      "Scientists Explore Outback as Testbed for Mars\n",
      "NASA-JPL Names 'Rolling Stones Rock' on Mars\n",
      "Robotic Toolkit Added to NASA's Mars 2020 Rover\n",
      "Space Samples Link NASA's Apollo 11 and Mars 2020\n",
      "Small Satellite Mission of the Year\n",
      "NASA 'Optometrists' Verify Mars 2020 Rover's 20/20 Vision\n",
      "New Finds for Mars Rover, Seven Years After Landing\n",
      "MEDLI2 Installation on Mars 2020 Aeroshell Begins\n",
      "NASA Garners 7 Webby Award Nominations\n",
      "NASA's Opportunity Rover Mission on Mars Comes to End\n",
      "NASA's InSight Places First Instrument on Mars\n",
      "NASA Invites Students to Name Mars 2020 Rover\n",
      "NASA's Curiosity Mars Rover Finds a Clay Cache\n",
      "Why This Martian Full Moon Looks Like Candy\n",
      "NASA Garners 7 Webby Award Nominations\n",
      "NASA's Opportunity Rover Mission on Mars Comes to End\n",
      "NASA's InSight Places First Instrument on Mars\n",
      "NASA Invites Students to Name Mars 2020 Rover\n",
      "NASA's Curiosity Mars Rover Finds a Clay Cache\n",
      "Why This Martian Full Moon Looks Like Candy\n"
     ]
    }
   ],
   "source": [
    "# Convert the browser html to a soup object and then quit the browser\n",
    "html = browser.html\n",
    "news_soup = BS(html, 'html.parser')\n",
    "\n",
    "articles = news_soup.find_all(\"div\", class_='content_title')\n",
    "\n",
    "# Check the length of the article titles scraped\n",
    "print(len(articles))\n",
    "\n",
    "# Print the article titles \n",
    "for a in articles:\n",
    "    print(a.text.strip())\n"
   ]
  },
  {
   "cell_type": "code",
   "execution_count": 41,
   "metadata": {},
   "outputs": [
    {
     "ename": "TypeError",
     "evalue": "find() takes no keyword arguments",
     "output_type": "error",
     "traceback": [
      "\u001b[1;31m---------------------------------------------------------------------------\u001b[0m",
      "\u001b[1;31mTypeError\u001b[0m                                 Traceback (most recent call last)",
      "\u001b[1;32m<ipython-input-41-8e38d078ee98>\u001b[0m in \u001b[0;36m<module>\u001b[1;34m\u001b[0m\n\u001b[0;32m      1\u001b[0m headlines = [x.find('div', class_=\"content_title\").text.strip()\n\u001b[1;32m----> 2\u001b[1;33m             for x in LatestResult]\n\u001b[0m\u001b[0;32m      3\u001b[0m description = [x.find\n\u001b[0;32m      4\u001b[0m            ('div', class_=\"rollover_description_inner\").text.strip() for x in LatestResult]\n\u001b[0;32m      5\u001b[0m \u001b[1;33m\u001b[0m\u001b[0m\n",
      "\u001b[1;32m<ipython-input-41-8e38d078ee98>\u001b[0m in \u001b[0;36m<listcomp>\u001b[1;34m(.0)\u001b[0m\n\u001b[0;32m      1\u001b[0m headlines = [x.find('div', class_=\"content_title\").text.strip()\n\u001b[1;32m----> 2\u001b[1;33m             for x in LatestResult]\n\u001b[0m\u001b[0;32m      3\u001b[0m description = [x.find\n\u001b[0;32m      4\u001b[0m            ('div', class_=\"rollover_description_inner\").text.strip() for x in LatestResult]\n\u001b[0;32m      5\u001b[0m \u001b[1;33m\u001b[0m\u001b[0m\n",
      "\u001b[1;31mTypeError\u001b[0m: find() takes no keyword arguments"
     ]
    }
   ],
   "source": [
    "    headlines = [x.find('div', class_=\"content_title\").text.strip()\n",
    "                for x in LatestResult]\n",
    "    description = [x.find\n",
    "               ('div', class_=\"rollover_description_inner\").text.strip() for x in LatestResult]\n",
    "    \n",
    "    for x in headlines:\n",
    "        headline = x\n",
    "        print(headline)\n",
    "        \n",
    "    for x in description:\n",
    "        description = x\n",
    "        print(description)\n"
   ]
  },
  {
   "cell_type": "code",
   "execution_count": 42,
   "metadata": {},
   "outputs": [
    {
     "name": "stdout",
     "output_type": "stream",
     "text": [
      "{'Headline': \"Media Get a Close-Up of NASA's Mars 2020 Rover\", 'Description': \"The clean room at NASA's Jet Propulsion Laboratory was open to the media to see NASA's next Mars explorer before it leaves for Florida in preparation for a summertime launch.\"}\n"
     ]
    }
   ],
   "source": [
    "    News = {\"Headline\": headline, \"Description\": description}\n",
    "    print(News)\n",
    "    "
   ]
  },
  {
   "cell_type": "code",
   "execution_count": 43,
   "metadata": {},
   "outputs": [
    {
     "data": {
      "text/plain": [
       "True"
      ]
     },
     "execution_count": 43,
     "metadata": {},
     "output_type": "execute_result"
    }
   ],
   "source": [
    "slide_elem = news_soup.select_one('ul.item_list li.slide')\n",
    "\n",
    "# Optional delay for loading the page\n",
    "browser.is_element_present_by_css(\"ul.item_list li.slide\", wait_time=1)"
   ]
  },
  {
   "cell_type": "code",
   "execution_count": 44,
   "metadata": {},
   "outputs": [
    {
     "data": {
      "text/plain": [
       "\"Media Get a Close-Up of NASA's Mars 2020 Rover\""
      ]
     },
     "execution_count": 44,
     "metadata": {},
     "output_type": "execute_result"
    }
   ],
   "source": [
    "# Use the parent element to find the first a tag and save it as `news_title`\n",
    "news_title = slide_elem.find(\"div\", class_='content_title').get_text()\n",
    "news_title"
   ]
  },
  {
   "cell_type": "code",
   "execution_count": 45,
   "metadata": {},
   "outputs": [
    {
     "data": {
      "text/plain": [
       "\"The clean room at NASA's Jet Propulsion Laboratory was open to the media to see NASA's next Mars explorer before it leaves for Florida in preparation for a summertime launch.\""
      ]
     },
     "execution_count": 45,
     "metadata": {},
     "output_type": "execute_result"
    }
   ],
   "source": [
    "# Use the parent element to find the paragraph text\n",
    "news_p = slide_elem.find('div', class_=\"article_teaser_body\").get_text()\n",
    "news_p"
   ]
  },
  {
   "cell_type": "code",
   "execution_count": null,
   "metadata": {},
   "outputs": [],
   "source": [
    "JPL FEATURED IMAGES"
   ]
  },
  {
   "cell_type": "code",
   "execution_count": 46,
   "metadata": {},
   "outputs": [],
   "source": [
    "# Visit URL\n",
    "url = 'https://www.jpl.nasa.gov/spaceimages/?search=&category=Mars'\n",
    "browser.visit(url)"
   ]
  },
  {
   "cell_type": "code",
   "execution_count": 47,
   "metadata": {},
   "outputs": [],
   "source": [
    "# Find and click the full image button\n",
    "full_image_elem = browser.find_by_id('full_image')\n",
    "full_image_elem.click()"
   ]
  },
  {
   "cell_type": "code",
   "execution_count": 48,
   "metadata": {},
   "outputs": [],
   "source": [
    "# Find the more info button and click that\n",
    "browser.is_element_present_by_text('more info', wait_time=1)\n",
    "more_info_elem = browser.find_link_by_partial_text('more info')\n",
    "more_info_elem.click()"
   ]
  },
  {
   "cell_type": "code",
   "execution_count": 49,
   "metadata": {},
   "outputs": [],
   "source": [
    "# Parse the resulting html with soup\n",
    "html = browser.html\n",
    "img_soup = BS(html, 'html.parser')"
   ]
  },
  {
   "cell_type": "code",
   "execution_count": 50,
   "metadata": {},
   "outputs": [
    {
     "data": {
      "text/plain": [
       "'/spaceimages/images/largesize/PIA16225_hires.jpg'"
      ]
     },
     "execution_count": 50,
     "metadata": {},
     "output_type": "execute_result"
    }
   ],
   "source": [
    "# find the relative image url\n",
    "img_url_rel = img_soup.select_one('figure.lede a img').get(\"src\")\n",
    "img_url_rel"
   ]
  },
  {
   "cell_type": "code",
   "execution_count": 51,
   "metadata": {},
   "outputs": [
    {
     "data": {
      "text/plain": [
       "'https://www.jpl.nasa.gov/spaceimages/images/largesize/PIA16225_hires.jpg'"
      ]
     },
     "execution_count": 51,
     "metadata": {},
     "output_type": "execute_result"
    }
   ],
   "source": [
    "# Use the base url to create an absolute url\n",
    "img_url = f'https://www.jpl.nasa.gov{img_url_rel}'\n",
    "img_url"
   ]
  },
  {
   "cell_type": "code",
   "execution_count": null,
   "metadata": {},
   "outputs": [],
   "source": [
    "MARS WEATHER "
   ]
  },
  {
   "cell_type": "code",
   "execution_count": 62,
   "metadata": {},
   "outputs": [],
   "source": [
    "    # Scraping the latest headline fron Nasa Mars website\n",
    "    \n",
    "    url = 'https://twitter.com/marswxreport?lang=en'\n",
    "    browser.visit(url)\n",
    "    html = browser.html\n",
    "\n"
   ]
  },
  {
   "cell_type": "code",
   "execution_count": 63,
   "metadata": {},
   "outputs": [],
   "source": [
    "weather_soup = BS(html, 'html.parser')"
   ]
  },
  {
   "cell_type": "code",
   "execution_count": 64,
   "metadata": {},
   "outputs": [],
   "source": [
    "html = browser.html\n",
    "weather_soup = BS(html, 'html.parser')"
   ]
  },
  {
   "cell_type": "code",
   "execution_count": 65,
   "metadata": {},
   "outputs": [
    {
     "name": "stdout",
     "output_type": "stream",
     "text": [
      "<div class=\"tweet js-stream-tweet js-actionable-tweet js-profile-popup-actionable dismissible-content original-tweet js-original-tweet has-cards has-content\" data-conversation-id=\"1213820237709238273\" data-disclosure-type=\"\" data-follows-you=\"false\" data-has-cards=\"true\" data-item-id=\"1213820237709238273\" data-name=\"Mars Weather\" data-permalink-path=\"/MarsWxReport/status/1213820237709238273\" data-reply-to-users-json='[{\"id_str\":\"786939553\",\"screen_name\":\"MarsWxReport\",\"name\":\"Mars Weather\",\"emojified_name\":{\"text\":\"Mars Weather\",\"emojified_text_as_html\":\"Mars Weather\"}}]' data-screen-name=\"MarsWxReport\" data-tweet-id=\"1213820237709238273\" data-tweet-nonce=\"1213820237709238273-b4685db0-c32b-467f-b3ab-7a8c271b8316\" data-tweet-stat-initialized=\"true\" data-user-id=\"786939553\" data-you-block=\"false\" data-you-follow=\"false\">\n",
      "<div class=\"context\">\n",
      "</div>\n",
      "<div class=\"content\">\n",
      "<div class=\"stream-item-header\">\n",
      "<a class=\"account-group js-account-group js-action-profile js-user-profile-link js-nav\" data-user-id=\"786939553\" href=\"/MarsWxReport\">\n",
      "<img alt=\"\" class=\"avatar js-action-profile-avatar\" src=\"https://pbs.twimg.com/profile_images/2552209293/220px-Mars_atmosphere_bigger.jpg\"/>\n",
      "<span class=\"FullNameGroup\">\n",
      "<strong class=\"fullname show-popup-with-id u-textTruncate\" data-aria-label-part=\"\">Mars Weather</strong><span>‏</span><span class=\"UserBadges\"></span><span class=\"UserNameBreak\"> </span></span><span class=\"username u-dir u-textTruncate\" data-aria-label-part=\"\" dir=\"ltr\">@<b>MarsWxReport</b></span></a>\n",
      "<small class=\"time\">\n",
      "<a class=\"tweet-timestamp js-permalink js-nav js-tooltip\" data-conversation-id=\"1213820237709238273\" href=\"/MarsWxReport/status/1213820237709238273\" title=\"5:51 AM - 5 Jan 2020\"><span class=\"_timestamp js-short-timestamp\" data-aria-label-part=\"last\" data-long-form=\"true\" data-time=\"1578232271\" data-time-ms=\"1578232271000\">Jan 5</span></a>\n",
      "</small>\n",
      "<div class=\"ProfileTweet-action ProfileTweet-action--more js-more-ProfileTweet-actions\">\n",
      "<div class=\"dropdown\">\n",
      "<button aria-haspopup=\"true\" class=\"ProfileTweet-actionButton u-textUserColorHover dropdown-toggle js-dropdown-toggle\" type=\"button\">\n",
      "<div class=\"IconContainer js-tooltip\" title=\"More\">\n",
      "<span class=\"Icon Icon--caretDownLight Icon--small\"></span>\n",
      "<span class=\"u-hiddenVisually\">More</span>\n",
      "</div>\n",
      "</button>\n",
      "<div class=\"dropdown-menu is-autoCentered\">\n",
      "<div class=\"dropdown-caret\">\n",
      "<div class=\"caret-outer\"></div>\n",
      "<div class=\"caret-inner\"></div>\n",
      "</div>\n",
      "<ul>\n",
      "<li class=\"copy-link-to-tweet js-actionCopyLinkToTweet\">\n",
      "<button class=\"dropdown-link\" type=\"button\">Copy link to Tweet</button>\n",
      "</li>\n",
      "<li class=\"embed-link js-actionEmbedTweet\" data-nav=\"embed_tweet\">\n",
      "<button class=\"dropdown-link\" type=\"button\">Embed Tweet</button>\n",
      "</li>\n",
      "</ul>\n",
      "</div>\n",
      "</div>\n",
      "</div>\n",
      "</div>\n",
      "<div class=\"js-tweet-text-container\">\n",
      "<p class=\"TweetTextSize TweetTextSize--normal js-tweet-text tweet-text\" data-aria-label-part=\"0\" lang=\"en\">InSight sol 393 (2020-01-04) low -97.7ºC (-143.8ºF) high -17.6ºC (0.4ºF)\n",
      "winds from the SSW at 5.5 m/s (12.2 mph) gusting to 21.6 m/s (48.4 mph)\n",
      "pressure at 6.40 hPa<a class=\"twitter-timeline-link u-hidden\" data-pre-embedded=\"true\" dir=\"ltr\" href=\"https://t.co/ZiUF3fZhoN\">pic.twitter.com/ZiUF3fZhoN</a></p>\n",
      "</div>\n",
      "<div class=\"AdaptiveMediaOuterContainer\">\n",
      "<div class=\"AdaptiveMedia is-square\">\n",
      "<div class=\"AdaptiveMedia-container\">\n",
      "<div class=\"AdaptiveMedia-singlePhoto\" style=\"padding-top: calc(0.5625 * 100% - 0.5px);\">\n",
      "<div class=\"AdaptiveMedia-photoContainer js-adaptive-photo\" data-dominant-color=\"[51,52,64]\" data-element-context=\"platform_photo_card\" data-image-url=\"https://pbs.twimg.com/media/ENhbEmzWkAIh0uU.jpg\" style=\"background-color:rgba(51,52,64,1.0);\">\n",
      "<img alt=\"\" data-aria-label-part=\"\" src=\"https://pbs.twimg.com/media/ENhbEmzWkAIh0uU.jpg\" style=\"width: 100%; top: -0px;\"/>\n",
      "</div>\n",
      "</div>\n",
      "</div>\n",
      "</div>\n",
      "</div>\n",
      "<div class=\"stream-item-footer\">\n",
      "<div class=\"ProfileTweet-actionCountList u-hiddenVisually\">\n",
      "<span class=\"ProfileTweet-action--reply u-hiddenVisually\">\n",
      "<span aria-hidden=\"true\" class=\"ProfileTweet-actionCount\" data-tweet-stat-count=\"0\">\n",
      "<span class=\"ProfileTweet-actionCountForAria\" id=\"profile-tweet-action-reply-count-aria-1213820237709238273\">0 replies</span>\n",
      "</span>\n",
      "</span>\n",
      "<span class=\"ProfileTweet-action--retweet u-hiddenVisually\">\n",
      "<span class=\"ProfileTweet-actionCount\" data-tweet-stat-count=\"8\">\n",
      "<span class=\"ProfileTweet-actionCountForAria\" data-aria-label-part=\"\" id=\"profile-tweet-action-retweet-count-aria-1213820237709238273\">8 retweets</span>\n",
      "</span>\n",
      "</span>\n",
      "<span class=\"ProfileTweet-action--favorite u-hiddenVisually\">\n",
      "<span class=\"ProfileTweet-actionCount\" data-tweet-stat-count=\"19\">\n",
      "<span class=\"ProfileTweet-actionCountForAria\" data-aria-label-part=\"\" id=\"profile-tweet-action-favorite-count-aria-1213820237709238273\">19 likes</span>\n",
      "</span>\n",
      "</span>\n",
      "</div>\n",
      "<div aria-label=\"Tweet actions\" class=\"ProfileTweet-actionList js-actions\" role=\"group\">\n",
      "<div class=\"ProfileTweet-action ProfileTweet-action--reply\">\n",
      "<button aria-describedby=\"profile-tweet-action-reply-count-aria-1213820237709238273\" class=\"ProfileTweet-actionButton js-actionButton js-actionReply\" data-modal=\"ProfileTweet-reply\" type=\"button\">\n",
      "<div class=\"IconContainer js-tooltip\" title=\"Reply\">\n",
      "<span class=\"Icon Icon--medium Icon--reply\"></span>\n",
      "<span class=\"u-hiddenVisually\">Reply</span>\n",
      "</div>\n",
      "<span class=\"ProfileTweet-actionCount ProfileTweet-actionCount--isZero\">\n",
      "<span aria-hidden=\"true\" class=\"ProfileTweet-actionCountForPresentation\"></span>\n",
      "</span>\n",
      "</button>\n",
      "</div>\n",
      "<div class=\"ProfileTweet-action ProfileTweet-action--retweet js-toggleState js-toggleRt\">\n",
      "<button aria-describedby=\"profile-tweet-action-retweet-count-aria-1213820237709238273\" class=\"ProfileTweet-actionButton js-actionButton js-actionRetweet\" data-modal=\"ProfileTweet-retweet\" type=\"button\">\n",
      "<div class=\"IconContainer js-tooltip\" title=\"Retweet\">\n",
      "<span class=\"Icon Icon--medium Icon--retweet\"></span>\n",
      "<span class=\"u-hiddenVisually\">Retweet</span>\n",
      "</div>\n",
      "<span class=\"ProfileTweet-actionCount\">\n",
      "<span aria-hidden=\"true\" class=\"ProfileTweet-actionCountForPresentation\">8</span>\n",
      "</span>\n",
      "</button><button class=\"ProfileTweet-actionButtonUndo js-actionButton js-actionRetweet\" data-modal=\"ProfileTweet-retweet\" type=\"button\">\n",
      "<div class=\"IconContainer js-tooltip\" title=\"Undo retweet\">\n",
      "<span class=\"Icon Icon--medium Icon--retweet\"></span>\n",
      "<span class=\"u-hiddenVisually\">Retweeted</span>\n",
      "</div>\n",
      "<span class=\"ProfileTweet-actionCount\">\n",
      "<span aria-hidden=\"true\" class=\"ProfileTweet-actionCountForPresentation\">8</span>\n",
      "</span>\n",
      "</button>\n",
      "</div>\n",
      "<div class=\"ProfileTweet-action ProfileTweet-action--favorite js-toggleState\">\n",
      "<button aria-describedby=\"profile-tweet-action-favorite-count-aria-1213820237709238273\" class=\"ProfileTweet-actionButton js-actionButton js-actionFavorite\" type=\"button\">\n",
      "<div class=\"IconContainer js-tooltip\" title=\"Like\">\n",
      "<span class=\"Icon Icon--heart Icon--medium\" role=\"presentation\"></span>\n",
      "<div class=\"HeartAnimation\"></div>\n",
      "<span class=\"u-hiddenVisually\">Like</span>\n",
      "</div>\n",
      "<span class=\"ProfileTweet-actionCount\">\n",
      "<span aria-hidden=\"true\" class=\"ProfileTweet-actionCountForPresentation\">19</span>\n",
      "</span>\n",
      "</button><button class=\"ProfileTweet-actionButtonUndo ProfileTweet-action--unfavorite u-linkClean js-actionButton js-actionFavorite\" type=\"button\">\n",
      "<div class=\"IconContainer js-tooltip\" title=\"Undo like\">\n",
      "<span class=\"Icon Icon--heart Icon--medium\" role=\"presentation\"></span>\n",
      "<div class=\"HeartAnimation\"></div>\n",
      "<span class=\"u-hiddenVisually\">Liked</span>\n",
      "</div>\n",
      "<span class=\"ProfileTweet-actionCount\">\n",
      "<span aria-hidden=\"true\" class=\"ProfileTweet-actionCountForPresentation\">19</span>\n",
      "</span>\n",
      "</button>\n",
      "</div>\n",
      "</div>\n",
      "</div>\n",
      "</div>\n",
      "</div>\n"
     ]
    }
   ],
   "source": [
    "# First, find a tweet with the data-name `Mars Weather`\n",
    "mars_weather_tweet = weather_soup.find('div', attrs={\"class\": \"tweet\", \"data-name\": \"Mars Weather\"})\n",
    "print (mars_weather_tweet)"
   ]
  },
  {
   "cell_type": "code",
   "execution_count": 66,
   "metadata": {},
   "outputs": [
    {
     "data": {
      "text/plain": [
       "'InSight sol 393 (2020-01-04) low -97.7ºC (-143.8ºF) high -17.6ºC (0.4ºF)\\nwinds from the SSW at 5.5 m/s (12.2 mph) gusting to 21.6 m/s (48.4 mph)\\npressure at 6.40 hPapic.twitter.com/ZiUF3fZhoN'"
      ]
     },
     "execution_count": 66,
     "metadata": {},
     "output_type": "execute_result"
    }
   ],
   "source": [
    "# Next, search within the tweet for the p tag containing the tweet text\n",
    "mars_weather = mars_weather_tweet.find('p', 'tweet-text').get_text()\n",
    "mars_weather"
   ]
  },
  {
   "cell_type": "code",
   "execution_count": null,
   "metadata": {},
   "outputs": [],
   "source": [
    "MARS HEMISPHERES"
   ]
  },
  {
   "cell_type": "code",
   "execution_count": 67,
   "metadata": {},
   "outputs": [],
   "source": [
    "url = 'https://astrogeology.usgs.gov/search/results?q=hemisphere+enhanced&k1=target&v1=Mars'\n",
    "browser.visit(url)"
   ]
  },
  {
   "cell_type": "code",
   "execution_count": 68,
   "metadata": {},
   "outputs": [],
   "source": [
    "hemisphere_image_urls = []\n",
    "\n",
    "# First, get a list of all of the hemispheres\n",
    "links = browser.find_by_css(\"a.product-item h3\")\n",
    "\n",
    "# Next, loop through those links, click the link, find the sample anchor, return the href\n",
    "for i in range(len(links)):\n",
    "    hemisphere = {}\n",
    "    \n",
    "    # We have to find the elements on each loop to avoid a stale element exception\n",
    "    browser.find_by_css(\"a.product-item h3\")[i].click()\n",
    "    \n",
    "    # Next, we find the Sample image anchor tag and extract the href\n",
    "    sample_elem = browser.find_link_by_text('Sample').first\n",
    "    hemisphere['img_url'] = sample_elem['href']\n",
    "    \n",
    "    # Get Hemisphere title\n",
    "    hemisphere['title'] = browser.find_by_css(\"h2.title\").text\n",
    "    \n",
    "    # Append hemisphere object to list\n",
    "    hemisphere_image_urls.append(hemisphere)\n",
    "    \n",
    "    # Finally, we navigate backwards\n",
    "    browser.back()\n",
    "    "
   ]
  },
  {
   "cell_type": "code",
   "execution_count": 69,
   "metadata": {},
   "outputs": [
    {
     "data": {
      "text/plain": [
       "[{'img_url': 'http://astropedia.astrogeology.usgs.gov/download/Mars/Viking/cerberus_enhanced.tif/full.jpg',\n",
       "  'title': 'Cerberus Hemisphere Enhanced'},\n",
       " {'img_url': 'http://astropedia.astrogeology.usgs.gov/download/Mars/Viking/schiaparelli_enhanced.tif/full.jpg',\n",
       "  'title': 'Schiaparelli Hemisphere Enhanced'},\n",
       " {'img_url': 'http://astropedia.astrogeology.usgs.gov/download/Mars/Viking/syrtis_major_enhanced.tif/full.jpg',\n",
       "  'title': 'Syrtis Major Hemisphere Enhanced'},\n",
       " {'img_url': 'http://astropedia.astrogeology.usgs.gov/download/Mars/Viking/valles_marineris_enhanced.tif/full.jpg',\n",
       "  'title': 'Valles Marineris Hemisphere Enhanced'}]"
      ]
     },
     "execution_count": 69,
     "metadata": {},
     "output_type": "execute_result"
    }
   ],
   "source": [
    "hemisphere_image_urls"
   ]
  },
  {
   "cell_type": "code",
   "execution_count": null,
   "metadata": {},
   "outputs": [],
   "source": [
    "MARS FACTS"
   ]
  },
  {
   "cell_type": "code",
   "execution_count": 70,
   "metadata": {},
   "outputs": [
    {
     "data": {
      "text/html": [
       "<div>\n",
       "<style scoped>\n",
       "    .dataframe tbody tr th:only-of-type {\n",
       "        vertical-align: middle;\n",
       "    }\n",
       "\n",
       "    .dataframe tbody tr th {\n",
       "        vertical-align: top;\n",
       "    }\n",
       "\n",
       "    .dataframe thead th {\n",
       "        text-align: right;\n",
       "    }\n",
       "</style>\n",
       "<table border=\"1\" class=\"dataframe\">\n",
       "  <thead>\n",
       "    <tr style=\"text-align: right;\">\n",
       "      <th></th>\n",
       "      <th>value</th>\n",
       "    </tr>\n",
       "    <tr>\n",
       "      <th>description</th>\n",
       "      <th></th>\n",
       "    </tr>\n",
       "  </thead>\n",
       "  <tbody>\n",
       "    <tr>\n",
       "      <th>Equatorial Diameter:</th>\n",
       "      <td>6,792 km</td>\n",
       "    </tr>\n",
       "    <tr>\n",
       "      <th>Polar Diameter:</th>\n",
       "      <td>6,752 km</td>\n",
       "    </tr>\n",
       "    <tr>\n",
       "      <th>Mass:</th>\n",
       "      <td>6.39 × 10^23 kg (0.11 Earths)</td>\n",
       "    </tr>\n",
       "    <tr>\n",
       "      <th>Moons:</th>\n",
       "      <td>2 (Phobos &amp; Deimos)</td>\n",
       "    </tr>\n",
       "    <tr>\n",
       "      <th>Orbit Distance:</th>\n",
       "      <td>227,943,824 km (1.38 AU)</td>\n",
       "    </tr>\n",
       "    <tr>\n",
       "      <th>Orbit Period:</th>\n",
       "      <td>687 days (1.9 years)</td>\n",
       "    </tr>\n",
       "    <tr>\n",
       "      <th>Surface Temperature:</th>\n",
       "      <td>-87 to -5 °C</td>\n",
       "    </tr>\n",
       "    <tr>\n",
       "      <th>First Record:</th>\n",
       "      <td>2nd millennium BC</td>\n",
       "    </tr>\n",
       "    <tr>\n",
       "      <th>Recorded By:</th>\n",
       "      <td>Egyptian astronomers</td>\n",
       "    </tr>\n",
       "  </tbody>\n",
       "</table>\n",
       "</div>"
      ],
      "text/plain": [
       "                                              value\n",
       "description                                        \n",
       "Equatorial Diameter:                       6,792 km\n",
       "Polar Diameter:                            6,752 km\n",
       "Mass:                 6.39 × 10^23 kg (0.11 Earths)\n",
       "Moons:                          2 (Phobos & Deimos)\n",
       "Orbit Distance:            227,943,824 km (1.38 AU)\n",
       "Orbit Period:                  687 days (1.9 years)\n",
       "Surface Temperature:                   -87 to -5 °C\n",
       "First Record:                     2nd millennium BC\n",
       "Recorded By:                   Egyptian astronomers"
      ]
     },
     "execution_count": 70,
     "metadata": {},
     "output_type": "execute_result"
    }
   ],
   "source": [
    "import pandas as pd\n",
    "df = pd.read_html('https://space-facts.com/mars/')[0]\n",
    "df.columns=['description', 'value']\n",
    "df.set_index('description', inplace=True)\n",
    "df"
   ]
  },
  {
   "cell_type": "code",
   "execution_count": 71,
   "metadata": {},
   "outputs": [
    {
     "data": {
      "text/plain": [
       "'<table border=\"1\" class=\"dataframe\">\\n  <thead>\\n    <tr style=\"text-align: right;\">\\n      <th></th>\\n      <th>value</th>\\n    </tr>\\n    <tr>\\n      <th>description</th>\\n      <th></th>\\n    </tr>\\n  </thead>\\n  <tbody>\\n    <tr>\\n      <th>Equatorial Diameter:</th>\\n      <td>6,792 km</td>\\n    </tr>\\n    <tr>\\n      <th>Polar Diameter:</th>\\n      <td>6,752 km</td>\\n    </tr>\\n    <tr>\\n      <th>Mass:</th>\\n      <td>6.39 × 10^23 kg (0.11 Earths)</td>\\n    </tr>\\n    <tr>\\n      <th>Moons:</th>\\n      <td>2 (Phobos &amp; Deimos)</td>\\n    </tr>\\n    <tr>\\n      <th>Orbit Distance:</th>\\n      <td>227,943,824 km (1.38 AU)</td>\\n    </tr>\\n    <tr>\\n      <th>Orbit Period:</th>\\n      <td>687 days (1.9 years)</td>\\n    </tr>\\n    <tr>\\n      <th>Surface Temperature:</th>\\n      <td>-87 to -5 °C</td>\\n    </tr>\\n    <tr>\\n      <th>First Record:</th>\\n      <td>2nd millennium BC</td>\\n    </tr>\\n    <tr>\\n      <th>Recorded By:</th>\\n      <td>Egyptian astronomers</td>\\n    </tr>\\n  </tbody>\\n</table>'"
      ]
     },
     "execution_count": 71,
     "metadata": {},
     "output_type": "execute_result"
    }
   ],
   "source": [
    "df.to_html()"
   ]
  },
  {
   "cell_type": "code",
   "execution_count": 35,
   "metadata": {},
   "outputs": [],
   "source": [
    "browser.quit()"
   ]
  },
  {
   "cell_type": "code",
   "execution_count": null,
   "metadata": {},
   "outputs": [],
   "source": []
  }
 ],
 "metadata": {
  "kernelspec": {
   "display_name": "Python 3",
   "language": "python",
   "name": "python3"
  },
  "language_info": {
   "codemirror_mode": {
    "name": "ipython",
    "version": 3
   },
   "file_extension": ".py",
   "mimetype": "text/x-python",
   "name": "python",
   "nbconvert_exporter": "python",
   "pygments_lexer": "ipython3",
   "version": "3.7.4"
  }
 },
 "nbformat": 4,
 "nbformat_minor": 2
}
